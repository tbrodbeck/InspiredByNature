{
 "cells": [
  {
   "cell_type": "code",
   "execution_count": 6,
   "metadata": {},
   "outputs": [],
   "source": [
    "import numpy as np\n",
    "import matplotlib.pyplot as plt\n",
    "import itertools"
   ]
  },
  {
   "cell_type": "code",
   "execution_count": 7,
   "metadata": {},
   "outputs": [],
   "source": [
    "def swap(entry):\n",
    "    neighbors = []\n",
    "    neighbor = []\n",
    "    mod = len(entry)\n",
    "    \n",
    "    for i in range(len(entry)):\n",
    "        last = i + 1\n",
    "        if i == mod - 1:\n",
    "            last = 0\n",
    "        neighbor = entry.copy()\n",
    "        neighbor[last], neighbor[i] = entry[i], entry[last]\n",
    "        neighbors.append(neighbor)\n",
    "    return neighbors"
   ]
  },
  {
   "cell_type": "code",
   "execution_count": 8,
   "metadata": {},
   "outputs": [],
   "source": [
    "def transposition(entry):\n",
    "    neighbors = list(itertools.permutations(entry))\n",
    "    neighbors.pop(0)\n",
    "    return neighbors"
   ]
  },
  {
   "cell_type": "code",
   "execution_count": 9,
   "metadata": {},
   "outputs": [],
   "source": [
    "class Knapsack:\n",
    "    def __init__(self, num_items, max_weight=400):\n",
    "        self.max_weight = max_weight\n",
    "        self.values = self.get_values(num_items)\n",
    "        self.select = [0] * num_items\n",
    "        self.weights = self.get_weights(num_items)\n",
    "        \n",
    "    def get_values(self, num):\n",
    "        return np.random.randint(1, high=1000, size=num)\n",
    "    \n",
    "    def get_weights(self, num):\n",
    "        return np.random.randint(1, high=self.max_weight, size=num)\n",
    "    \n",
    "    def randomize_select(self):\n",
    "        self.select = np.random.randint(0, 2, size=len(self.select))"
   ]
  },
  {
   "cell_type": "code",
   "execution_count": 19,
   "metadata": {},
   "outputs": [],
   "source": [
    "def get_total_value(vals, selections):\n",
    "    value = []\n",
    "    for i in range(len(vals)):\n",
    "        if selections[i] == 1:\n",
    "            value.append(vals[i])\n",
    "    return np.sum(value)\n",
    "\n",
    "def check_weight_compatability(weights, selections, maxi):\n",
    "    weight = []\n",
    "    for i in range(len(weights)):\n",
    "        if selections[i] == 1:\n",
    "            weight.append(weights[i])\n",
    "    total_weight = np.sum(weight)\n",
    "    return 1 if total_weight < maxi else 0\n",
    "\n",
    "def first_choice_hill_climb(sack, neighbor_type):\n",
    "    weight_pass = 0\n",
    "    while weight_pass == 0:\n",
    "        weight_pass = check_weight_compatability(sack.weights, sack.select, sack.max_weight)\n",
    "        if weight_pass == 0:\n",
    "            print(\"Initial selection is invalid: Max weight exceeded!  Reseeding...\")\n",
    "            sack.randomize_select()\n",
    "    print(\"SUCCESS\")\n",
    "    first_val = get_total_value(sack.values, sack.select)\n",
    "    if neighbor_type == 'swap':\n",
    "        new_vals = []\n",
    "        new = swap(sack.select)\n",
    "        for n in new:\n",
    "            new_vals.append(get_total_value(sack.values, n))\n",
    "        if max(new_vals) < first_val:\n",
    "            return sack.select\n",
    "        else:\n",
    "            first_val = max(new_vals)\n",
    "            sack.select = new_vals[np.argmax(new_vals)]\n",
    "        \n",
    "def hill_climb(sack, neighbor_type):\n",
    "    if neighbor_type == 'swap':\n",
    "        "
   ]
  },
  {
   "cell_type": "code",
   "execution_count": 28,
   "metadata": {},
   "outputs": [
    {
     "name": "stdout",
     "output_type": "stream",
     "text": [
      "[ 19 529  57 583 979]\n",
      "[371 154 360 204 370]\n",
      "[1 1 1 0 0]\n"
     ]
    }
   ],
   "source": [
    "sack = Knapsack(5)\n",
    "print(sack.values)\n",
    "print(sack.weights)\n",
    "sack.randomize_select()\n",
    "print(sack.select)"
   ]
  },
  {
   "cell_type": "code",
   "execution_count": 29,
   "metadata": {},
   "outputs": [
    {
     "name": "stdout",
     "output_type": "stream",
     "text": [
      "Initial selection is invalid: Max weight exceeded!  Reseeding...\n",
      "Initial selection is invalid: Max weight exceeded!  Reseeding...\n",
      "Initial selection is invalid: Max weight exceeded!  Reseeding...\n",
      "Initial selection is invalid: Max weight exceeded!  Reseeding...\n",
      "Initial selection is invalid: Max weight exceeded!  Reseeding...\n",
      "SUCCESS\n"
     ]
    }
   ],
   "source": [
    "first_choice_hill_climb(sack, 'swap')"
   ]
  },
  {
   "cell_type": "code",
   "execution_count": null,
   "metadata": {},
   "outputs": [],
   "source": []
  }
 ],
 "metadata": {
  "kernelspec": {
   "display_name": "Python 3",
   "language": "python",
   "name": "python3"
  },
  "language_info": {
   "codemirror_mode": {
    "name": "ipython",
    "version": 3
   },
   "file_extension": ".py",
   "mimetype": "text/x-python",
   "name": "python",
   "nbconvert_exporter": "python",
   "pygments_lexer": "ipython3",
   "version": "3.6.4"
  }
 },
 "nbformat": 4,
 "nbformat_minor": 2
}
