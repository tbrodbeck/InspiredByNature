{
 "cells": [
  {
   "cell_type": "code",
   "execution_count": 2,
   "metadata": {},
   "outputs": [],
   "source": [
    "import numpy as np"
   ]
  },
  {
   "cell_type": "code",
   "execution_count": 2,
   "metadata": {},
   "outputs": [],
   "source": [
    "def get_problem_1():\n",
    "    process_200 = np.random.randint(10, 1001, 200)\n",
    "    process_100 = np.random.randint(100, 301, 100)\n",
    "    processing = np.zeros(300)\n",
    "    processing[:200] = process_200\n",
    "    processing[200:] = process_100\n",
    "    return processing\n",
    "\n",
    "def get_problem_2():\n",
    "    process_150_1 = np.random.randint(10, 1001, 150)\n",
    "    process_150_2 = np.random.randint(400, 701, 150)\n",
    "    processing = np.zeros(300)\n",
    "    processing[:200] = process_150_1\n",
    "    processing[200:] = process_150_2\n",
    "    return processing\n",
    "\n",
    "def get_problem_3():\n",
    "    processing = [50, 50, 50]\n",
    "    for i in range(100 - 51):\n",
    "        processing.append(i + 51)\n",
    "        processing.append(i + 51)\n",
    "    return processing"
   ]
  },
  {
   "cell_type": "code",
   "execution_count": 60,
   "metadata": {},
   "outputs": [],
   "source": [
    "class Initializer():\n",
    "    def __init__(self, num_jobs, num_machines, population_size):\n",
    "        self.num_jobs = num_jobs\n",
    "        self.num_machines = num_machines\n",
    "        self.population_size = population_size\n",
    "    def random(self):\n",
    "        init = np.zeros((self.num_jobs, self.population_size))\n",
    "        for i in range(self.population_size):\n",
    "            init[i] = np.random.randint(1, self.num_machines + 1, self.num_jobs)\n",
    "        return init\n",
    "    def equal_distribution(self):\n",
    "        per_machine = self.num_jobs // self.num_machines\n",
    "        init = []\n",
    "        for i in range(self.num_machines):\n",
    "            init.append([i+1] * per_machine)\n",
    "        init = np.ravel(np.asarray(init))\n",
    "        if len(init) != self.num_jobs:\n",
    "            for i in range(self.num_jobs - len(init)):\n",
    "                init = np.append(init, 1)\n",
    "        return init"
   ]
  },
  {
   "cell_type": "code",
   "execution_count": 61,
   "metadata": {},
   "outputs": [
    {
     "name": "stdout",
     "output_type": "stream",
     "text": [
      "[[2. 2. 2. 3. 2. 1. 2. 1. 2. 3.]\n",
      " [4. 4. 3. 2. 1. 1. 2. 3. 2. 3.]\n",
      " [1. 2. 2. 3. 5. 4. 3. 2. 4. 2.]\n",
      " [1. 4. 5. 3. 1. 5. 1. 4. 4. 4.]\n",
      " [1. 5. 3. 1. 5. 4. 3. 3. 3. 4.]\n",
      " [4. 4. 5. 5. 5. 4. 1. 5. 1. 4.]\n",
      " [5. 4. 3. 5. 3. 5. 4. 2. 1. 4.]\n",
      " [2. 5. 4. 3. 5. 2. 5. 4. 4. 3.]\n",
      " [3. 5. 2. 3. 4. 1. 5. 2. 2. 5.]\n",
      " [2. 2. 1. 3. 4. 3. 3. 1. 3. 4.]]\n"
     ]
    }
   ],
   "source": [
    "i = Initializer(10,5,10)\n",
    "print(i.random())"
   ]
  },
  {
   "cell_type": "code",
   "execution_count": 56,
   "metadata": {},
   "outputs": [],
   "source": [
    "class Selector():\n",
    "    def roulette(self):\n",
    "        raise NotImplementedError\n",
    "    def tournament(self, candidates):\n",
    "        return max(candidates)"
   ]
  },
  {
   "cell_type": "code",
   "execution_count": 101,
   "metadata": {},
   "outputs": [],
   "source": [
    "class Recombiner():\n",
    "    def __init__(self, chromosomes):\n",
    "        self.chromosomes = chromosomes\n",
    "        self.crossover_probability = .5\n",
    "        \n",
    "    def crossover_random_num(self):\n",
    "        return np.random.random()\n",
    "    \n",
    "    def get_random_pair(self):\n",
    "        pair = np.random.randint(0, len(self.chromosomes), 2)\n",
    "        while pair[0] == pair[1]:\n",
    "            pair[1] = np.random.randint(0, len(self.chromosomes))\n",
    "        return pair\n",
    "    \n",
    "    def one_point_crossover(self):\n",
    "        pair = self.get_random_pair()\n",
    "        mom = self.chromosomes[pair[0]]\n",
    "        dad = self.chromosomes[pair[1]]\n",
    "        print(mom)\n",
    "        print(dad)\n",
    "        cross_chance = self.crossover_random_num()\n",
    "        print(cross_chance, \"<\", self.crossover_probability)\n",
    "        if cross_chance < self.crossover_probability:\n",
    "            crossover_point = np.random.randint(1, len(self.chromosomes))\n",
    "            child1, child2 = [], []\n",
    "            from_mom = True\n",
    "            for i in range(len(self.chromosomes)):\n",
    "                if i == crossover_point:\n",
    "                    from_mom = False\n",
    "                if from_mom:\n",
    "                    child1.append(mom[i])\n",
    "                    child2.append(dad[i])\n",
    "                else:\n",
    "                    child1.append(dad[i])\n",
    "                    child2.append(mom[i])\n",
    "            return child1, child2\n",
    "        else:\n",
    "            return mom, dad\n",
    "        \n",
    "    def two_point_crossover(self):\n",
    "        pair = self.get_random_pair()\n",
    "        mom = self.chromosomes[pair[0]]\n",
    "        dad = self.chromosomes[pair[1]]\n",
    "        cross_chance = self.crossover_random_num()\n",
    "        if cross_chance < self.crossover_probability:\n",
    "            crossover_point1 = np.random.randint(1, len(self.chromosomes[1]))\n",
    "            crossover_point2 = np.random.randint(1, len(self.chromosomes[1]))\n",
    "            while crossover_point1 == crossover_point2:  # make sure they are not the same\n",
    "                crossover_point2 = np.random.randint(1, len(self.chromosomes))\n",
    "            child1, child2 = [], []\n",
    "            from_mom = True\n",
    "            for i in range(len(self.chromosomes)):\n",
    "                if i == crossover_point1:\n",
    "                    from_mom = False\n",
    "                if i == crossover_point2:\n",
    "                    from_mom = True\n",
    "                if from_mom:\n",
    "                    child1.append(mom[i])\n",
    "                    child2.append(dad[i])\n",
    "                else:\n",
    "                    child1.append(dad[i])\n",
    "                    child2.append(mom[i])\n",
    "            return child1, child2\n",
    "        else:\n",
    "            return mom, dad"
   ]
  },
  {
   "cell_type": "code",
   "execution_count": 102,
   "metadata": {},
   "outputs": [],
   "source": [
    "r = Recombiner(np.array([[0,0,0,0],[1,1,1,1]]))"
   ]
  },
  {
   "cell_type": "code",
   "execution_count": 103,
   "metadata": {},
   "outputs": [
    {
     "name": "stdout",
     "output_type": "stream",
     "text": [
      "[0 0 0 0]\n",
      "[1 1 1 1]\n",
      "0.10749004284530128 < 0.5\n"
     ]
    },
    {
     "data": {
      "text/plain": [
       "([0, 1], [1, 0])"
      ]
     },
     "execution_count": 103,
     "metadata": {},
     "output_type": "execute_result"
    }
   ],
   "source": [
    "r.one_point_crossover()"
   ]
  },
  {
   "cell_type": "code",
   "execution_count": 104,
   "metadata": {},
   "outputs": [],
   "source": [
    "test = np.array([[0,0,0,0],[1,1,1,1]])"
   ]
  },
  {
   "cell_type": "code",
   "execution_count": 105,
   "metadata": {},
   "outputs": [
    {
     "data": {
      "text/plain": [
       "2"
      ]
     },
     "execution_count": 105,
     "metadata": {},
     "output_type": "execute_result"
    }
   ],
   "source": [
    "len(test)"
   ]
  },
  {
   "cell_type": "code",
   "execution_count": 106,
   "metadata": {},
   "outputs": [
    {
     "data": {
      "text/plain": [
       "4"
      ]
     },
     "execution_count": 106,
     "metadata": {},
     "output_type": "execute_result"
    }
   ],
   "source": [
    "len(test[1])"
   ]
  },
  {
   "cell_type": "code",
   "execution_count": null,
   "metadata": {},
   "outputs": [],
   "source": []
  }
 ],
 "metadata": {
  "kernelspec": {
   "display_name": "Python 3",
   "language": "python",
   "name": "python3"
  },
  "language_info": {
   "codemirror_mode": {
    "name": "ipython",
    "version": 3
   },
   "file_extension": ".py",
   "mimetype": "text/x-python",
   "name": "python",
   "nbconvert_exporter": "python",
   "pygments_lexer": "ipython3",
   "version": "3.6.4"
  }
 },
 "nbformat": 4,
 "nbformat_minor": 2
}
