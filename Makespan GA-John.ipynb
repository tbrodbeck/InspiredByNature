{
 "cells": [
  {
   "cell_type": "code",
   "execution_count": 2,
   "metadata": {},
   "outputs": [],
   "source": [
    "import numpy as np"
   ]
  },
  {
   "cell_type": "code",
   "execution_count": 2,
   "metadata": {},
   "outputs": [],
   "source": [
    "def get_problem_1():\n",
    "    process_200 = np.random.randint(10, 1001, 200)\n",
    "    process_100 = np.random.randint(100, 301, 100)\n",
    "    processing = np.zeros(300)\n",
    "    processing[:200] = process_200\n",
    "    processing[200:] = process_100\n",
    "    return processing\n",
    "\n",
    "def get_problem_2():\n",
    "    process_150_1 = np.random.randint(10, 1001, 150)\n",
    "    process_150_2 = np.random.randint(400, 701, 150)\n",
    "    processing = np.zeros(300)\n",
    "    processing[:200] = process_150_1\n",
    "    processing[200:] = process_150_2\n",
    "    return processing\n",
    "\n",
    "def get_problem_3():\n",
    "    processing = [50, 50, 50]\n",
    "    for i in range(100 - 51):\n",
    "        processing.append(i + 51)\n",
    "        processing.append(i + 51)\n",
    "    return processing"
   ]
  },
  {
   "cell_type": "code",
   "execution_count": 145,
   "metadata": {},
   "outputs": [],
   "source": [
    "class Initializer():\n",
    "    \"\"\"\n",
    "    Initializes either a random population set or an equally distributed set where each machine gets an equal amount of jobs\n",
    "    \"\"\"\n",
    "    def __init__(self, num_jobs, num_machines, population_size):\n",
    "        self.num_jobs = num_jobs\n",
    "        self.num_machines = num_machines\n",
    "        self.population_size = population_size\n",
    "        \n",
    "    def random(self):\n",
    "        \"\"\"\n",
    "        Generate random assignments of machines to jobs\n",
    "        \"\"\"\n",
    "        init = np.zeros((self.num_jobs, self.population_size))\n",
    "        for i in range(self.population_size):\n",
    "            init[i] = np.random.randint(1, self.num_machines + 1, self.num_jobs)\n",
    "        return init\n",
    "    \n",
    "    def equal_distribution(self):\n",
    "        \"\"\"\n",
    "        Generate an equal distribution of machines to jobs\n",
    "        \"\"\"\n",
    "        per_machine = self.num_jobs // self.num_machines\n",
    "        init = []\n",
    "        for i in range(self.num_machines):\n",
    "            init.append([i+1] * per_machine)\n",
    "        init = np.ravel(np.asarray(init))\n",
    "        if len(init) != self.num_jobs:\n",
    "            for i in range(self.num_jobs - len(init)):\n",
    "                init = np.append(init, 1)\n",
    "        return [init] * self.population_size  # return population size amount of the same array"
   ]
  },
  {
   "cell_type": "code",
   "execution_count": 56,
   "metadata": {},
   "outputs": [],
   "source": [
    "class Selector():\n",
    "    def roulette(self):\n",
    "        raise NotImplementedError\n",
    "    def tournament(self, candidates):\n",
    "        return max(candidates)"
   ]
  },
  {
   "cell_type": "code",
   "execution_count": 140,
   "metadata": {},
   "outputs": [],
   "source": [
    "class Recombiner():\n",
    "    \"\"\"\n",
    "    Recombines two parents into two new children with possibly different genes\n",
    "    \"\"\"\n",
    "    def __init__(self, chromosomes, cross_probability=.5):\n",
    "        \"\"\"\n",
    "        Inits the recombiner with a defined crossover probability, defaulting to .5\n",
    "        \"\"\"\n",
    "        self.chromosomes = chromosomes\n",
    "        self.crossover_probability = cross_probability\n",
    "        \n",
    "    def crossover_random_num(self):\n",
    "        \"\"\"\n",
    "        Generates a random r to check if crossover occurs\n",
    "        \"\"\"\n",
    "        return np.random.random()\n",
    "    \n",
    "    def get_random_pair(self):\n",
    "        \"\"\"\n",
    "        Pulls out two random chromosomes to crossover.  If the same pair is pulled, generate another one until\n",
    "        different chromosomes are pulled.\n",
    "        \"\"\"\n",
    "        pair = np.random.randint(0, len(self.chromosomes), 2)\n",
    "        while pair[0] == pair[1]:\n",
    "            pair[1] = np.random.randint(0, len(self.chromosomes))\n",
    "        return pair\n",
    "    \n",
    "    def one_point_crossover(self):\n",
    "        \"\"\"\n",
    "        One point crossover implementation\n",
    "        \"\"\"\n",
    "        pair = self.get_random_pair()\n",
    "        # Define the parents\n",
    "        mom = self.chromosomes[pair[0]]\n",
    "        dad = self.chromosomes[pair[1]]\n",
    "        # See if they crossover\n",
    "        cross_chance = self.crossover_random_num()\n",
    "        if cross_chance < self.crossover_probability:\n",
    "            # Cross over occurs, generate crossover point\n",
    "            crossover_point = np.random.randint(1, len(self.chromosomes[1]))\n",
    "            child1, child2 = [], []\n",
    "            from_mom = True\n",
    "            # Step through alleles\n",
    "            for i in range(len(self.chromosomes[1])):\n",
    "                if i == crossover_point:  # if hit crossover point, swap allele selection\n",
    "                    from_mom = False\n",
    "                if from_mom:\n",
    "                    child1.append(mom[i])\n",
    "                    child2.append(dad[i])\n",
    "                else:\n",
    "                    child1.append(dad[i])\n",
    "                    child2.append(mom[i])\n",
    "            return child1, child2\n",
    "        else:  # if no crossover, return parents\n",
    "            return mom, dad\n",
    "        \n",
    "    def two_point_crossover(self):\n",
    "        \"\"\"\n",
    "        Two point crossover implementation\n",
    "        \"\"\"\n",
    "        pair = self.get_random_pair()\n",
    "        # Define the parents\n",
    "        mom = self.chromosomes[pair[0]]\n",
    "        dad = self.chromosomes[pair[1]]\n",
    "        # See if they crossover\n",
    "        cross_chance = self.crossover_random_num()\n",
    "        if cross_chance < self.crossover_probability:\n",
    "            # Cross over occurs, generate crossover points\n",
    "            crossover_point1 = np.random.randint(1, len(self.chromosomes[1]))\n",
    "            crossover_point2 = np.random.randint(1, len(self.chromosomes[1]))\n",
    "            if crossover_point2 < crossover_point1:  # make sure they are in order\n",
    "                temp = crossover_point2\n",
    "                crossover_point2 = crossover_point1\n",
    "                crossover_point1 = temp\n",
    "            while crossover_point1 == crossover_point2:  # make sure they are not the same\n",
    "                crossover_point2 = np.random.randint(1, len(self.chromosomes[1]))\n",
    "            child1, child2 = [], []\n",
    "            from_mom = True\n",
    "            for i in range(len(self.chromosomes[1])):\n",
    "                if i == crossover_point1:  # if hit crossover point, swap allele selection\n",
    "                    from_mom = False\n",
    "                if i == crossover_point2:  # if hit crossover point, swap allele selection\n",
    "                    from_mom = True\n",
    "                if from_mom:\n",
    "                    child1.append(mom[i])\n",
    "                    child2.append(dad[i])\n",
    "                else:\n",
    "                    child1.append(dad[i])\n",
    "                    child2.append(mom[i])\n",
    "            return child1, child2\n",
    "        else:  # if no crossover, return parents\n",
    "            return mom, dad"
   ]
  },
  {
   "cell_type": "code",
   "execution_count": 135,
   "metadata": {},
   "outputs": [],
   "source": [
    "r = Recombiner(np.array([[0,0,0,0],[1,1,1,1]]))"
   ]
  },
  {
   "cell_type": "code",
   "execution_count": 139,
   "metadata": {},
   "outputs": [
    {
     "name": "stdout",
     "output_type": "stream",
     "text": [
      "[0 0 0 0]\n",
      "[1 1 1 1]\n",
      "0.5225965552383014 < 0.5\n"
     ]
    },
    {
     "data": {
      "text/plain": [
       "(array([0, 0, 0, 0]), array([1, 1, 1, 1]))"
      ]
     },
     "execution_count": 139,
     "metadata": {},
     "output_type": "execute_result"
    }
   ],
   "source": [
    "r.two_point_crossover()"
   ]
  },
  {
   "cell_type": "code",
   "execution_count": 110,
   "metadata": {},
   "outputs": [],
   "source": [
    "test = np.array([[0,0,0,0],[1,1,1,1]])"
   ]
  },
  {
   "cell_type": "code",
   "execution_count": 105,
   "metadata": {},
   "outputs": [
    {
     "data": {
      "text/plain": [
       "2"
      ]
     },
     "execution_count": 105,
     "metadata": {},
     "output_type": "execute_result"
    }
   ],
   "source": [
    "len(test)"
   ]
  },
  {
   "cell_type": "code",
   "execution_count": 106,
   "metadata": {},
   "outputs": [
    {
     "data": {
      "text/plain": [
       "4"
      ]
     },
     "execution_count": 106,
     "metadata": {},
     "output_type": "execute_result"
    }
   ],
   "source": [
    "len(test[1])"
   ]
  },
  {
   "cell_type": "code",
   "execution_count": null,
   "metadata": {},
   "outputs": [],
   "source": []
  }
 ],
 "metadata": {
  "kernelspec": {
   "display_name": "Python 3",
   "language": "python",
   "name": "python3"
  },
  "language_info": {
   "codemirror_mode": {
    "name": "ipython",
    "version": 3
   },
   "file_extension": ".py",
   "mimetype": "text/x-python",
   "name": "python",
   "nbconvert_exporter": "python",
   "pygments_lexer": "ipython3",
   "version": "3.6.4"
  }
 },
 "nbformat": 4,
 "nbformat_minor": 2
}
