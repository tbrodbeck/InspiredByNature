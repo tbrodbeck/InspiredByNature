{
 "cells": [
  {
   "cell_type": "code",
   "execution_count": 2,
   "metadata": {},
   "outputs": [],
   "source": [
    "import numpy as np"
   ]
  },
  {
   "cell_type": "code",
   "execution_count": 2,
   "metadata": {},
   "outputs": [],
   "source": [
    "def get_problem_1():\n",
    "    process_200 = np.random.randint(10, 1001, 200)\n",
    "    process_100 = np.random.randint(100, 301, 100)\n",
    "    processing = np.zeros(300)\n",
    "    processing[:200] = process_200\n",
    "    processing[200:] = process_100\n",
    "    return processing\n",
    "\n",
    "def get_problem_2():\n",
    "    process_150_1 = np.random.randint(10, 1001, 150)\n",
    "    process_150_2 = np.random.randint(400, 701, 150)\n",
    "    processing = np.zeros(300)\n",
    "    processing[:200] = process_150_1\n",
    "    processing[200:] = process_150_2\n",
    "    return processing\n",
    "\n",
    "def get_problem_3():\n",
    "    processing = [50, 50, 50]\n",
    "    for i in range(100 - 51):\n",
    "        processing.append(i + 51)\n",
    "        processing.append(i + 51)\n",
    "    return processing"
   ]
  },
  {
   "cell_type": "code",
   "execution_count": 55,
   "metadata": {},
   "outputs": [],
   "source": [
    "class Initializer():\n",
    "    def __init__(self, num_jobs, num_machines):\n",
    "        self.num_jobs = num_jobs\n",
    "        self.num_machines = num_machines\n",
    "    def random(self):\n",
    "        return np.random.randint(1, self.num_machines + 1, self.num_jobs)\n",
    "    def equal_distribution(self):\n",
    "        per_machine = self.num_jobs // self.num_machines\n",
    "        init = []\n",
    "        for i in range(self.num_machines):\n",
    "            init.append([i+1] * per_machine)\n",
    "        init = np.ravel(np.asarray(init))\n",
    "        if len(init) != self.num_jobs:\n",
    "            for i in range(self.num_jobs - len(init)):\n",
    "                init = np.append(init, 1)\n",
    "        return init"
   ]
  },
  {
   "cell_type": "code",
   "execution_count": 56,
   "metadata": {},
   "outputs": [],
   "source": [
    "class Selector():\n",
    "    def roulette(self):\n",
    "        raise NotImplementedError\n",
    "    def tournament(self, candidates):\n",
    "        return max(candidates)"
   ]
  },
  {
   "cell_type": "code",
   "execution_count": null,
   "metadata": {},
   "outputs": [],
   "source": [
    "class Recombiner():\n",
    "    def one_point_crossover(self, mom, dad):\n",
    "        raise NotImplementedError\n",
    "    def two_point_crossover(self, mom, dad):\n",
    "        raise NotImplementedError"
   ]
  },
  {
   "cell_type": "code",
   "execution_count": null,
   "metadata": {},
   "outputs": [],
   "source": []
  }
 ],
 "metadata": {
  "kernelspec": {
   "display_name": "Python 3",
   "language": "python",
   "name": "python3"
  },
  "language_info": {
   "codemirror_mode": {
    "name": "ipython",
    "version": 3
   },
   "file_extension": ".py",
   "mimetype": "text/x-python",
   "name": "python",
   "nbconvert_exporter": "python",
   "pygments_lexer": "ipython3",
   "version": "3.6.4"
  }
 },
 "nbformat": 4,
 "nbformat_minor": 2
}
