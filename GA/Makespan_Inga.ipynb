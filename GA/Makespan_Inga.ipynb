{
 "cells": [
  {
   "cell_type": "code",
   "execution_count": 6,
   "metadata": {},
   "outputs": [],
   "source": [
    "import numpy as np"
   ]
  },
  {
   "cell_type": "code",
   "execution_count": 43,
   "metadata": {},
   "outputs": [],
   "source": [
    "class Mutator():\n",
    "    #to-do!! (Inga)\n",
    "    def random(self, offspring, num_jobs):\n",
    "        probabilty_m = np.random.random()\n",
    "        if probabilty_m < 0.1:\n",
    "            #randomly choses a position that gets mutated\n",
    "            bit = np.random.randint(0, (len(offspring) - 1))\n",
    "            mutation = np.random.randint(1, num_jobs)\n",
    "            \n",
    "            while offspring[bit] == mutation:\n",
    "                mutation = np.random.randint(1, num_jobs)\n",
    "                \n",
    "            offspring[bit] = mutation\n",
    "            \n",
    "            return offspring\n",
    "        \n",
    "        else:\n",
    "            return offspring\n",
    "    \n",
    "    def lazy(self, offspring, num_jobs):\n",
    "        probabilty_m = np.random.random()\n",
    "        if probabilty_m < 0.1:\n",
    "            #randomly choses a position that gets mutated\n",
    "            bit = np.random.randint(0, (len(offspring) - 1))\n",
    "            mutation = np.random.randint(1, num_jobs)\n",
    "            \n",
    "            while offspring[bit] == mutation:\n",
    "                mutation = np.random.randint(1, num_jobs)\n",
    "                \n",
    "            offspring[bit] = mutation\n",
    "            \n",
    "            return offspring\n",
    "        \n",
    "        else:\n",
    "            return offspring\n",
    "            \n",
    "            "
   ]
  },
  {
   "cell_type": "code",
   "execution_count": 44,
   "metadata": {},
   "outputs": [
    {
     "data": {
      "text/plain": [
       "[1, 2, 3, 4, 5]"
      ]
     },
     "execution_count": 44,
     "metadata": {},
     "output_type": "execute_result"
    }
   ],
   "source": [
    "m = Mutator()\n",
    "m.lazy([1, 2, 3, 4, 5], 5)"
   ]
  },
  {
   "cell_type": "code",
   "execution_count": null,
   "metadata": {},
   "outputs": [],
   "source": []
  },
  {
   "cell_type": "code",
   "execution_count": null,
   "metadata": {},
   "outputs": [],
   "source": []
  }
 ],
 "metadata": {
  "kernelspec": {
   "display_name": "Python 3",
   "language": "python",
   "name": "python3"
  },
  "language_info": {
   "codemirror_mode": {
    "name": "ipython",
    "version": 3
   },
   "file_extension": ".py",
   "mimetype": "text/x-python",
   "name": "python",
   "nbconvert_exporter": "python",
   "pygments_lexer": "ipython3",
   "version": "3.6.4"
  }
 },
 "nbformat": 4,
 "nbformat_minor": 2
}
