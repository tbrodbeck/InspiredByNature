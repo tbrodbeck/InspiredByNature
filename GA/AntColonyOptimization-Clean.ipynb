{
 "cells": [
  {
   "cell_type": "code",
   "execution_count": 8,
   "metadata": {},
   "outputs": [],
   "source": [
    "import numpy as np\n",
    "import matplotlib.pyplot as plt\n",
    "import copy\n",
    "\n",
    "from random import choices"
   ]
  },
  {
   "cell_type": "code",
   "execution_count": 14,
   "metadata": {},
   "outputs": [],
   "source": [
    "class AntColonyTSPOptimizer:\n",
    "    def __init__(self, ants, evaporation, intensification, alpha=1, beta=0, choose_best=.8):\n",
    "        self.ants = ants\n",
    "        self.evaporation_rate = evaporation\n",
    "        self.pheromone_intensification = intensification\n",
    "        self.heuristic_alpha = alpha\n",
    "        self.heuristic_beta = beta\n",
    "        self.choose_best = choose_best\n",
    "        \n",
    "    def _get_coordinate_matrix(self, num_cities):\n",
    "        coords = []\n",
    "        for i in range(num_cities):\n",
    "            for j in range(num_cities):\n",
    "                coords.append((i, j))\n",
    "        return coords\n",
    "        \n",
    "    def _get_destination_matrix(self, num_cities):\n",
    "        destinations = []\n",
    "        for i in range(num_cities):\n",
    "            row = [i + 1 for i in range(num_cities)]\n",
    "            destinations.append(row)\n",
    "        return np.asarray(destinations)\n",
    "    \n",
    "    def _get_eta_matrix(self, tsp_map):\n",
    "        return self._remove_diagonal((1 / tsp_map) ** self.heuristic_beta)\n",
    "    \n",
    "    def _get_pheromone_matrix(self, num_cities):\n",
    "        pheromone_matrix = self._remove_diagonal(np.ones((num_cities, num_cities)))\n",
    "        return pheromone_matrix ** self.heuristic_alpha\n",
    "    \n",
    "    def _initialize(self, num_cities, tsp_map):\n",
    "        self.pheromone_matrix = self._get_pheromone_matrix(num_cities)\n",
    "        self.coordinate_matrix = self._get_coordinate_matrix(num_cities)\n",
    "        self.destination_matrix = self._get_destination_matrix(num_cities)\n",
    "        self.eta_matrix = self._get_eta_matrix(tsp_map)\n",
    "        \n",
    "        print(self.pheromone_matrix)\n",
    "        print(self.eta_matrix)\n",
    "        print(self.coordinate_matrix)\n",
    "        print(self.destination_matrix)\n",
    "        print(12)\n",
    "        \n",
    "    def _remove_diagonal(self, matrix):\n",
    "        remove_diagonal = np.eye(len(matrix))\n",
    "        matrix[remove_diagonal==1] = 0\n",
    "        return matrix\n",
    "    \n",
    "    def _get_probabilities(self, from_city, run, divide=True):\n",
    "        probability = []\n",
    "        for to_city in range(len(run)):\n",
    "            top = run[from_city, to_city] * self.eta_matrix[from_city, to_city]\n",
    "#             print(\"TOP\", top)\n",
    "            if divide:\n",
    "#                 print(\"*****\\n\",run[from_city],\"\\n\",self.eta_matrix[from_city],\n",
    "#                       \"\\n\",run[from_city] * self.eta_matrix[from_city],\"\\n******\")\n",
    "                bottom = np.sum(run[from_city] * self.eta_matrix[from_city])\n",
    "#                 print(\"BOTTOM\", bottom)\n",
    "            else:\n",
    "                bottom = 1\n",
    "            probability.append(top / bottom)\n",
    "        return probability\n",
    "\n",
    "    def _delete_city(self, run, city):\n",
    "        for i in range(len(self.destination_matrix)):\n",
    "            for j in range(len(self.destination_matrix)):\n",
    "                if self.destination_matrix[i, j] == city + 1:  # cause coords are 0 index based\n",
    "                    run[i, j] = 0\n",
    "        return run\n",
    "            \n",
    "    def _stack_probabilities(self, probs):\n",
    "        probability = np.column_stack(([p for p in probs]))\n",
    "        return probability\n",
    "        \n",
    "    def _explore(self, tsp_map):\n",
    "        routes = []\n",
    "        coordinate_routes = []\n",
    "    \n",
    "        # DEBU0\n",
    "#         self.choose_best = 0\n",
    "    \n",
    "        for ant in range(self.ants):\n",
    "            current_run = copy.deepcopy(self.pheromone_matrix)\n",
    "            route = []\n",
    "            coordinates = []\n",
    "            initial_city = np.random.randint(0, len(self.pheromone_matrix))\n",
    "            current_run = self._delete_city(current_run, initial_city)\n",
    "#             print(\"=========================\\nINITIAL CITY\", initial_city)\n",
    "            route.append(initial_city)\n",
    "            coordinates.append((initial_city, initial_city))\n",
    "            for i in range(len(self.pheromone_matrix) - 1):  # -1 because initial city already chosen\n",
    "                if np.random.random() < self.choose_best:\n",
    "                    probability = self._get_probabilities(initial_city, current_run, divide=False)\n",
    "#                     print(\"PROBABILITY:\", probability)\n",
    "                    next_city = np.argmax(probability)\n",
    "#                     print(\"NEXT CITY\",next_city)\n",
    "#                     print(\"C\\n\",current_run,\"\\nMAP\\n\",tsp_map,\"\\nCOORD\\n\",self.destination_matrix,\"\\nETA\\n\",self.eta_matrix)\n",
    "                else:\n",
    "                    probability = self._get_probabilities(initial_city, current_run, divide=True)\n",
    "#                     print(\"PROBABILITY\", probability)\n",
    "#                     print(\"PROBAB SUM\", np.sum(probability))\n",
    "                    next_city = np.random.choice(range(len(probability)), p=probability)\n",
    "#                     print(\"CHOICE\")\n",
    "#                     print(\"NEXT CITY\",next_city)\n",
    "#                     print(\"C\\n\",current_run,\"\\nMAP\\n\",tsp_map,\"\\nCOORD\\n\",self.destination_matrix,\"\\nETA\\n\",self.eta_matrix)\n",
    "                route.append(next_city)\n",
    "                index = self._get_index(initial_city, next_city, len(current_run))\n",
    "                coordinates.append(self.coordinate_matrix[index])\n",
    "#                 print(\"***DELETION***\")\n",
    "                current_run = self._delete_city(current_run, next_city)\n",
    "#                 print(\"***DELETION***\\n\",current_run)\n",
    "#             print(ant, \"ant done\", route)\n",
    "            routes.append(route)\n",
    "            coordinate_routes.append(coordinates)\n",
    "            initial_city = next_city\n",
    "#             print(route)\n",
    "#         print(routes)\n",
    "        return routes, coordinate_routes\n",
    "\n",
    "    def _get_index(self, i, j, length):\n",
    "        down = length * j\n",
    "        return down + i\n",
    "    \n",
    "    def _evaluate_solutions(self, routes, tsp_map):\n",
    "        scores = []\n",
    "        for route in routes:\n",
    "            score = 0\n",
    "            for city in route:\n",
    "                score += tsp_map[city]\n",
    "            scores.append(score)\n",
    "        return scores\n",
    "    \n",
    "    def _evaporate(self):\n",
    "        self.pheromone_matrix *= (1 - self.evaporation_rate)\n",
    "        \n",
    "    def _intensify(self, best):\n",
    "        for city in best:\n",
    "            self.pheromone_matrix[city] += self.pheromone_intensification\n",
    "        self._remove_diagonal(self.pheromone_matrix)\n",
    "            \n",
    "    def fit(self, tsp_map, iterations=None, verbose=True):\n",
    "        tsp_map = self._remove_diagonal(tsp_map)\n",
    "        num_cities = len(tsp_map)\n",
    "        self._initialize(num_cities, tsp_map)\n",
    "        if iterations:\n",
    "            for iteration in range(iterations):\n",
    "                routes, coords = self._explore(tsp_map)\n",
    "                scores = self._evaluate_solutions(coords, tsp_map)\n",
    "                self._evaporate()\n",
    "                print(\"SCORES\\n\", scores)\n",
    "                print(\"BEST ROUTE\\n\",coords[np.argmin(scores)])\n",
    "#                 print(coords[np.argmax(scores)])\n",
    "                self._intensify(coords[np.argmin(scores)])\n",
    "                if verbose:\n",
    "                    print(\"Iteration:\\t\", iteration)\n",
    "#                     print(\"Minimum Distance:\\t\", min(scores))\n",
    "#                     print(scores)\n",
    "                    \n",
    "                \n",
    "        "
   ]
  },
  {
   "cell_type": "code",
   "execution_count": 15,
   "metadata": {},
   "outputs": [
    {
     "name": "stdout",
     "output_type": "stream",
     "text": [
      "[[59 26 86]\n",
      " [17 62 29]\n",
      " [37 18 25]]\n"
     ]
    }
   ],
   "source": [
    "first = np.loadtxt('01.tsp')\n",
    "test = np.random.randint(1,100, (3,3))\n",
    "print(test)"
   ]
  },
  {
   "cell_type": "code",
   "execution_count": 16,
   "metadata": {
    "scrolled": true
   },
   "outputs": [
    {
     "name": "stdout",
     "output_type": "stream",
     "text": [
      "[[0 1 9 1]\n",
      " [1 0 1 9]\n",
      " [9 1 0 1]\n",
      " [0 0 0 0]]\n"
     ]
    }
   ],
   "source": [
    "example = [[0,1,9,1],[1,0,1,9],[9,1,0,1],[0,0,0,0]]\n",
    "example = np.asarray(example)\n",
    "print(example)"
   ]
  },
  {
   "cell_type": "code",
   "execution_count": 17,
   "metadata": {
    "scrolled": false
   },
   "outputs": [
    {
     "name": "stdout",
     "output_type": "stream",
     "text": [
      "[[0. 1. 1. 1.]\n",
      " [1. 0. 1. 1.]\n",
      " [1. 1. 0. 1.]\n",
      " [1. 1. 1. 0.]]\n",
      "[[0. 1. 1. 1.]\n",
      " [1. 0. 1. 1.]\n",
      " [1. 1. 0. 1.]\n",
      " [1. 1. 1. 0.]]\n",
      "[(0, 0), (0, 1), (0, 2), (0, 3), (1, 0), (1, 1), (1, 2), (1, 3), (2, 0), (2, 1), (2, 2), (2, 3), (3, 0), (3, 1), (3, 2), (3, 3)]\n",
      "[[1 2 3 4]\n",
      " [1 2 3 4]\n",
      " [1 2 3 4]\n",
      " [1 2 3 4]]\n",
      "12\n",
      "SCORES\n",
      " [11, 2, 10, 10, 10, 10, 2, 10, 10, 10]\n",
      "BEST ROUTE\n",
      " [(1, 1), (0, 1), (2, 1), (3, 1)]\n",
      "Iteration:\t 0\n",
      "SCORES\n",
      " [11, 10, 2, 10, 2, 10, 11, 2, 10, 10]\n",
      "BEST ROUTE\n",
      " [(1, 1), (0, 1), (2, 1), (3, 1)]\n",
      "Iteration:\t 1\n",
      "SCORES\n",
      " [10, 11, 2, 10, 2, 10, 2, 2, 10, 10]\n",
      "BEST ROUTE\n",
      " [(1, 1), (0, 1), (2, 1), (3, 1)]\n",
      "Iteration:\t 2\n",
      "SCORES\n",
      " [2, 2, 10, 10, 10, 11, 10, 2, 10, 2]\n",
      "BEST ROUTE\n",
      " [(1, 1), (0, 1), (2, 1), (3, 1)]\n",
      "Iteration:\t 3\n",
      "SCORES\n",
      " [10, 11, 11, 10, 11, 2, 10, 10, 10, 2]\n",
      "BEST ROUTE\n",
      " [(1, 1), (0, 1), (2, 1), (3, 1)]\n",
      "Iteration:\t 4\n",
      "SCORES\n",
      " [2, 10, 10, 2, 10, 11, 10, 10, 10, 10]\n",
      "BEST ROUTE\n",
      " [(1, 1), (0, 1), (2, 1), (3, 1)]\n",
      "Iteration:\t 5\n",
      "SCORES\n",
      " [11, 2, 2, 10, 2, 10, 11, 11, 10, 10]\n",
      "BEST ROUTE\n",
      " [(1, 1), (0, 1), (2, 1), (3, 1)]\n",
      "Iteration:\t 6\n",
      "SCORES\n",
      " [2, 10, 10, 2, 10, 2, 10, 10, 10, 10]\n",
      "BEST ROUTE\n",
      " [(1, 1), (0, 1), (2, 1), (3, 1)]\n",
      "Iteration:\t 7\n",
      "SCORES\n",
      " [10, 2, 2, 11, 2, 10, 10, 10, 2, 11]\n",
      "BEST ROUTE\n",
      " [(1, 1), (0, 1), (2, 1), (3, 1)]\n",
      "Iteration:\t 8\n",
      "SCORES\n",
      " [10, 10, 10, 11, 11, 11, 10, 10, 2, 10]\n",
      "BEST ROUTE\n",
      " [(1, 1), (0, 1), (3, 1), (2, 1)]\n",
      "Iteration:\t 9\n"
     ]
    },
    {
     "name": "stderr",
     "output_type": "stream",
     "text": [
      "/Applications/Miniconda3/envs/tf/lib/python3.6/site-packages/ipykernel_launcher.py:25: RuntimeWarning: divide by zero encountered in true_divide\n"
     ]
    }
   ],
   "source": [
    "op = AntColonyTSPOptimizer(10, .1, 1)\n",
    "op.fit(example, 10)"
   ]
  },
  {
   "cell_type": "code",
   "execution_count": null,
   "metadata": {},
   "outputs": [],
   "source": [
    "print(first[1,1])"
   ]
  },
  {
   "cell_type": "code",
   "execution_count": null,
   "metadata": {},
   "outputs": [],
   "source": [
    "one = np.ones((10,10))\n",
    "one[0,1] = 2\n",
    "two = np.ones((10,10)) * 2\n",
    "\n",
    "print(one)\n",
    "\n",
    "print(np.sum(one[0]))"
   ]
  },
  {
   "cell_type": "code",
   "execution_count": null,
   "metadata": {},
   "outputs": [],
   "source": [
    "probs = [[1,2,3],[4,5,6],[7,8,9]]\n",
    "\n",
    "probability = np.column_stack(([p for p in probs]))\n",
    "print(probability)"
   ]
  },
  {
   "cell_type": "code",
   "execution_count": null,
   "metadata": {},
   "outputs": [],
   "source": [
    "print(probability.shape)"
   ]
  },
  {
   "cell_type": "code",
   "execution_count": null,
   "metadata": {},
   "outputs": [],
   "source": [
    "def lol(num_cities):\n",
    "        coordinates = []\n",
    "        for i in range(num_cities):\n",
    "            row = [1 + i for i in range(num_cities)]\n",
    "            coordinates.append(row)\n",
    "        return np.asarray(coordinates)"
   ]
  },
  {
   "cell_type": "code",
   "execution_count": null,
   "metadata": {},
   "outputs": [],
   "source": [
    "print(lol(10).shape)"
   ]
  },
  {
   "cell_type": "code",
   "execution_count": null,
   "metadata": {},
   "outputs": [],
   "source": [
    "print(1/test)"
   ]
  },
  {
   "cell_type": "code",
   "execution_count": null,
   "metadata": {},
   "outputs": [],
   "source": [
    "i = [1,2,3]\n",
    "ii = [2,2,2]\n",
    "\n",
    "print(np.array(i) * np.array(ii))"
   ]
  },
  {
   "cell_type": "code",
   "execution_count": null,
   "metadata": {},
   "outputs": [],
   "source": []
  }
 ],
 "metadata": {
  "kernelspec": {
   "display_name": "Python 3",
   "language": "python",
   "name": "python3"
  },
  "language_info": {
   "codemirror_mode": {
    "name": "ipython",
    "version": 3
   },
   "file_extension": ".py",
   "mimetype": "text/x-python",
   "name": "python",
   "nbconvert_exporter": "python",
   "pygments_lexer": "ipython3",
   "version": "3.6.4"
  }
 },
 "nbformat": 4,
 "nbformat_minor": 2
}
