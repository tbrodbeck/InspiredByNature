{
 "cells": [
  {
   "cell_type": "code",
   "execution_count": 12,
   "metadata": {},
   "outputs": [],
   "source": [
    "import numpy as np"
   ]
  },
  {
   "cell_type": "code",
   "execution_count": 2,
   "metadata": {},
   "outputs": [],
   "source": [
    "def get_problem_1():\n",
    "    process_200 = np.random.randint(10, 1001, 200)\n",
    "    process_100 = np.random.randint(100, 301, 100)\n",
    "    processing = np.zeros(300)\n",
    "    processing[:200] = process_200\n",
    "    processing[200:] = process_100\n",
    "    return processing\n",
    "\n",
    "def get_problem_2():\n",
    "    process_150_1 = np.random.randint(10, 1001, 150)\n",
    "    process_150_2 = np.random.randint(400, 701, 150)\n",
    "    processing = np.zeros(300)\n",
    "    processing[:200] = process_150_1\n",
    "    processing[200:] = process_150_2\n",
    "    return processing\n",
    "\n",
    "def get_problem_3():\n",
    "    processing = [50, 50, 50]\n",
    "    for i in range(100 - 51):\n",
    "        processing.append(i + 51)\n",
    "        processing.append(i + 51)\n",
    "    return processing"
   ]
  },
  {
   "cell_type": "code",
   "execution_count": 14,
   "metadata": {},
   "outputs": [
    {
     "data": {
      "text/plain": [
       "array([557., 506., 880., 155., 902., 253., 214., 957., 356., 475., 715.,\n",
       "       248., 917., 405., 261., 999., 124., 917., 347., 780., 680., 642.,\n",
       "       514., 693., 360., 168., 176., 786., 931., 385., 797., 705., 352.,\n",
       "        78., 426., 694.,  38., 578., 382., 848., 302., 825., 737., 162.,\n",
       "       725., 683., 724., 642., 724., 802., 244., 981., 794., 842., 400.,\n",
       "       737., 917., 238., 731., 244., 733., 748., 350., 413., 921., 950.,\n",
       "       630., 827., 662., 508., 155., 849., 400., 857., 936., 389., 603.,\n",
       "       629., 362., 464., 992.,  87., 289., 601., 382., 526., 514., 629.,\n",
       "       709., 610., 723.,  12., 875., 479., 645., 540., 443., 444., 542.,\n",
       "       896., 194., 664., 398., 722.,  43., 396., 438., 948., 371., 193.,\n",
       "       766., 611.,  10., 958., 867., 918., 247., 790., 820., 305., 692.,\n",
       "       331., 290., 299., 276., 268., 903., 231., 115., 213., 999., 225.,\n",
       "       720.,  31., 925., 926., 301., 231., 131., 707., 718., 875., 566.,\n",
       "       367., 878., 635., 832., 884., 630., 595., 199., 195., 906., 426.,\n",
       "        34., 163., 936., 569., 237., 249., 411., 214., 738., 113., 250.,\n",
       "       595., 125., 777., 869., 674., 671., 931., 273., 902., 363., 943.,\n",
       "       692., 940., 276., 603., 445., 628., 619.,  68., 473., 185., 293.,\n",
       "       856., 315., 370., 619., 936., 842., 928., 348., 201., 191., 203.,\n",
       "       555., 299., 184., 243., 253., 119., 220., 248., 282., 148., 223.,\n",
       "       227., 123., 162., 134., 297., 227., 272., 234., 173., 126., 115.,\n",
       "       162., 120., 180., 286., 173., 250., 215., 282., 268., 218., 173.,\n",
       "       216., 174., 220., 297., 195., 113., 263., 138., 246., 122., 174.,\n",
       "       273., 166., 219., 196., 188., 145., 141., 286., 238., 187., 226.,\n",
       "       267., 282., 224., 296., 123., 155., 174., 236., 300., 148., 195.,\n",
       "       136., 240., 195., 209., 153., 293., 204., 161., 232., 183., 255.,\n",
       "       165., 252., 243., 119., 104., 260., 263., 243., 202., 197., 165.,\n",
       "       100., 226., 112., 146., 121., 110., 182., 151., 224., 282., 196.,\n",
       "       230., 274., 205.])"
      ]
     },
     "execution_count": 14,
     "metadata": {},
     "output_type": "execute_result"
    }
   ],
   "source": [
    "len(get_problem_1())\n",
    "get_problem_1()"
   ]
  },
  {
   "cell_type": "code",
   "execution_count": 55,
   "metadata": {},
   "outputs": [],
   "source": [
    "class Initializer():\n",
    "    def __init__(self, num_jobs, num_machines):\n",
    "        self.num_jobs = num_jobs\n",
    "        self.num_machines = num_machines\n",
    "    def random(self):\n",
    "        return np.random.randint(1, self.num_machines + 1, self.num_jobs)\n",
    "    def equal_distribution(self):\n",
    "        per_machine = self.num_jobs // self.num_machines\n",
    "        init = []\n",
    "        for i in range(self.num_machines):\n",
    "            init.append([i+1] * per_machine)\n",
    "        init = np.ravel(np.asarray(init))\n",
    "        if len(init) != self.num_jobs:\n",
    "            for i in range(self.num_jobs - len(init)):\n",
    "                init = np.append(init, 1)\n",
    "        return init"
   ]
  },
  {
   "cell_type": "code",
   "execution_count": null,
   "metadata": {},
   "outputs": [],
   "source": [
    "class Evaluator():\n",
    "    def evaluate()\n",
    "        pass"
   ]
  },
  {
   "cell_type": "code",
   "execution_count": 56,
   "metadata": {},
   "outputs": [],
   "source": [
    "class Selector():\n",
    "    def roulette(self):\n",
    "        raise NotImplementedError\n",
    "    def tournament(self, candidates):\n",
    "        return max(candidates)"
   ]
  },
  {
   "cell_type": "code",
   "execution_count": 9,
   "metadata": {},
   "outputs": [
    {
     "name": "stdout",
     "output_type": "stream",
     "text": [
      "15\n",
      "[1, 1, 1, 1, 1, 1, 1, 1, 1, 1, 1, 1, 1, 1, 1, 2, 2, 2, 2, 2, 2, 2, 2, 2, 2, 2, 2, 2, 2, 2, 3, 3, 3, 3, 3, 3, 3, 3, 3, 3, 3, 3, 3, 3, 3, 4, 4, 4, 4, 4, 4, 4, 4, 4, 4, 4, 4, 4, 4, 4, 5, 5, 5, 5, 5, 5, 5, 5, 5, 5, 5, 5, 5, 5, 5, 6, 6, 6, 6, 6, 6, 6, 6, 6, 6, 6, 6, 6, 6, 6, 7, 7, 7, 7, 7, 7, 7, 7, 7, 7, 7, 7, 7, 7, 7, 8, 8, 8, 8, 8, 8, 8, 8, 8, 8, 8, 8, 8, 8, 8, 9, 9, 9, 9, 9, 9, 9, 9, 9, 9, 9, 9, 9, 9, 9, 10, 10, 10, 10, 10, 10, 10, 10, 10, 10, 10, 10, 10, 10, 10, 11, 11, 11, 11, 11, 11, 11, 11, 11, 11, 11, 11, 11, 11, 11, 12, 12, 12, 12, 12, 12, 12, 12, 12, 12, 12, 12, 12, 12, 12, 13, 13, 13, 13, 13, 13, 13, 13, 13, 13, 13, 13, 13, 13, 13, 14, 14, 14, 14, 14, 14, 14, 14, 14, 14, 14, 14, 14, 14, 14, 15, 15, 15, 15, 15, 15, 15, 15, 15, 15, 15, 15, 15, 15, 15, 16, 16, 16, 16, 16, 16, 16, 16, 16, 16, 16, 16, 16, 16, 16, 17, 17, 17, 17, 17, 17, 17, 17, 17, 17, 17, 17, 17, 17, 17, 18, 18, 18, 18, 18, 18, 18, 18, 18, 18, 18, 18, 18, 18, 18, 19, 19, 19, 19, 19, 19, 19, 19, 19, 19, 19, 19, 19, 19, 19, 20, 20, 20, 20, 20, 20, 20, 20, 20, 20, 20, 20, 20, 20, 20]\n",
      "15\n",
      "300\n"
     ]
    }
   ],
   "source": [
    "i = Initializer(300, 20)\n",
    "print(i.ramp())\n",
    "print(len(i.ramp()))"
   ]
  },
  {
   "cell_type": "code",
   "execution_count": null,
   "metadata": {},
   "outputs": [],
   "source": []
  },
  {
   "cell_type": "code",
   "execution_count": null,
   "metadata": {},
   "outputs": [],
   "source": []
  }
 ],
 "metadata": {
  "kernelspec": {
   "display_name": "Python 3",
   "language": "python",
   "name": "python3"
  },
  "language_info": {
   "codemirror_mode": {
    "name": "ipython",
    "version": 3
   },
   "file_extension": ".py",
   "mimetype": "text/x-python",
   "name": "python",
   "nbconvert_exporter": "python",
   "pygments_lexer": "ipython3",
   "version": "3.6.4"
  }
 },
 "nbformat": 4,
 "nbformat_minor": 2
}
