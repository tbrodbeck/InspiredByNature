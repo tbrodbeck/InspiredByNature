{
 "cells": [
  {
   "cell_type": "code",
   "execution_count": 1,
   "metadata": {},
   "outputs": [],
   "source": [
    "import numpy as np"
   ]
  },
  {
   "cell_type": "code",
   "execution_count": 2,
   "metadata": {},
   "outputs": [],
   "source": [
    "def get_problem_1():\n",
    "    process_200 = np.random.randint(10, 1001, 200)\n",
    "    process_100 = np.random.randint(100, 301, 100)\n",
    "    processing = np.zeros(300)\n",
    "    processing[:200] = process_200\n",
    "    processing[200:] = process_100\n",
    "    return processing\n",
    "\n",
    "def get_problem_2():\n",
    "    process_150_1 = np.random.randint(10, 1001, 150)\n",
    "    process_150_2 = np.random.randint(400, 701, 150)\n",
    "    processing = np.zeros(300)\n",
    "    processing[:200] = process_150_1\n",
    "    processing[200:] = process_150_2\n",
    "    return processing\n",
    "\n",
    "def get_problem_3():\n",
    "    processing = [50, 50, 50]\n",
    "    for i in range(100 - 51):\n",
    "        processing.append(i + 51)\n",
    "        processing.append(i + 51)\n",
    "    return processing"
   ]
  },
  {
   "cell_type": "code",
   "execution_count": 3,
   "metadata": {},
   "outputs": [],
   "source": [
    "class Initializer():\n",
    "    def __init__(self, num_jobs, num_machines):\n",
    "        self.num_jobs = num_jobs\n",
    "        self.num_machines = num_machines\n",
    "    def random(self):\n",
    "        return np.random.randint(1, self.num_machines + 1, self.num_jobs)\n",
    "    def ramp(self):\n",
    "        per_machine = self.num_jobs // self.num_machines\n",
    "        print(per_machine)\n",
    "        init = []\n",
    "        machine = 0\n",
    "        for i in range(self.num_jobs):\n",
    "            if i % per_machine == 0:\n",
    "                machine += 1\n",
    "            init.append(machine)\n",
    "#         if len(init) != self.num_jobs:\n",
    "#             for i in range(self.num_jobs - len(init)):\n",
    "#                 init.append(init[-1])\n",
    "        return init"
   ]
  },
  {
   "cell_type": "code",
   "execution_count": 4,
   "metadata": {},
   "outputs": [],
   "source": [
    "class Selector():\n",
    "    def roulette(self):\n",
    "        raise NotImplementedError\n",
    "    def tournament(self, candidates):\n",
    "        return max(candidates)"
   ]
  },
  {
   "cell_type": "code",
   "execution_count": 7,
   "metadata": {},
   "outputs": [
    {
     "name": "stdout",
     "output_type": "stream",
     "text": [
      "5\n",
      "[1, 1, 1, 1, 1, 2, 2, 2, 2, 2, 3, 3, 3, 3, 3, 4, 4, 4, 4, 4, 5, 5, 5, 5, 5, 6, 6, 6, 6, 6, 7, 7, 7, 7, 7, 8, 8, 8, 8, 8, 9, 9, 9, 9, 9, 10, 10, 10, 10, 10, 11, 11, 11, 11, 11]\n",
      "5\n",
      "55\n"
     ]
    }
   ],
   "source": [
    "i = Initializer(55, 10)\n",
    "print(i.ramp())\n",
    "print(len(i.ramp()))"
   ]
  },
  {
   "cell_type": "code",
   "execution_count": null,
   "metadata": {},
   "outputs": [],
   "source": []
  }
 ],
 "metadata": {
  "kernelspec": {
   "display_name": "Python 3",
   "language": "python",
   "name": "python3"
  },
  "language_info": {
   "codemirror_mode": {
    "name": "ipython",
    "version": 3
   },
   "file_extension": ".py",
   "mimetype": "text/x-python",
   "name": "python",
   "nbconvert_exporter": "python",
   "pygments_lexer": "ipython3",
   "version": "3.6.4"
  }
 },
 "nbformat": 4,
 "nbformat_minor": 2
}
